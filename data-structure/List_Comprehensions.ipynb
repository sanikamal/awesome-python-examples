{
  "nbformat": 4,
  "nbformat_minor": 0,
  "metadata": {
    "kernelspec": {
      "display_name": "Python 3",
      "language": "python",
      "name": "python3"
    },
    "language_info": {
      "codemirror_mode": {
        "name": "ipython",
        "version": 3
      },
      "file_extension": ".py",
      "mimetype": "text/x-python",
      "name": "python",
      "nbconvert_exporter": "python",
      "pygments_lexer": "ipython3",
      "version": "3.7.0"
    },
    "colab": {
      "name": "List Comprehensions.ipynb",
      "provenance": [],
      "collapsed_sections": [],
      "include_colab_link": true
    }
  },
  "cells": [
    {
      "cell_type": "markdown",
      "metadata": {
        "id": "view-in-github",
        "colab_type": "text"
      },
      "source": [
        "<a href=\"https://colab.research.google.com/github/sanikamal/python-atoz/blob/master/data-structure/List_Comprehensions.ipynb\" target=\"_parent\"><img src=\"https://colab.research.google.com/assets/colab-badge.svg\" alt=\"Open In Colab\"/></a>"
      ]
    },
    {
      "cell_type": "markdown",
      "metadata": {
        "id": "jKdu5cy8SpSB",
        "colab_type": "text"
      },
      "source": [
        "# Python List Comprehensions\n",
        "basic format: `new_list = [transform sequence [filter] ] ` \n",
        "© Sani Kamal, 2019."
      ]
    },
    {
      "cell_type": "code",
      "metadata": {
        "id": "28Xu298nSpSG",
        "colab_type": "code",
        "colab": {}
      },
      "source": [
        "import random"
      ],
      "execution_count": 0,
      "outputs": []
    },
    {
      "cell_type": "markdown",
      "metadata": {
        "id": "q-QXJXxKSpSM",
        "colab_type": "text"
      },
      "source": [
        "**get values within a range**"
      ]
    },
    {
      "cell_type": "code",
      "metadata": {
        "id": "yiHA_6_HSpSN",
        "colab_type": "code",
        "colab": {
          "base_uri": "https://localhost:8080/",
          "height": 34
        },
        "outputId": "1525464e-1dd8-41fa-9613-df9879ea657f"
      },
      "source": [
        "under_10 = [x for x in range(10)]\n",
        "print('under_10: ' + str(under_10))"
      ],
      "execution_count": 2,
      "outputs": [
        {
          "output_type": "stream",
          "text": [
            "under_10: [0, 1, 2, 3, 4, 5, 6, 7, 8, 9]\n"
          ],
          "name": "stdout"
        }
      ]
    },
    {
      "cell_type": "markdown",
      "metadata": {
        "id": "CQ0ozjOHSpSU",
        "colab_type": "text"
      },
      "source": [
        "**get squared values**"
      ]
    },
    {
      "cell_type": "code",
      "metadata": {
        "id": "K2RBCks-SpSW",
        "colab_type": "code",
        "colab": {
          "base_uri": "https://localhost:8080/",
          "height": 34
        },
        "outputId": "d83ab609-62c6-4570-ca70-139bc3b3e985"
      },
      "source": [
        "squares = [x**2 for x in under_10]\n",
        "print('squares: ' + str(squares))"
      ],
      "execution_count": 3,
      "outputs": [
        {
          "output_type": "stream",
          "text": [
            "squares: [0, 1, 4, 9, 16, 25, 36, 49, 64, 81]\n"
          ],
          "name": "stdout"
        }
      ]
    },
    {
      "cell_type": "markdown",
      "metadata": {
        "id": "-LtctZ29SpSZ",
        "colab_type": "text"
      },
      "source": [
        "**get odd numbers using mod**"
      ]
    },
    {
      "cell_type": "code",
      "metadata": {
        "id": "MbdBVStlSpSa",
        "colab_type": "code",
        "colab": {
          "base_uri": "https://localhost:8080/",
          "height": 34
        },
        "outputId": "b0bbe4ce-34dc-4592-eb6b-de1a90bbe673"
      },
      "source": [
        "odds =  [x for x in range(10) if x%2 == 1]\n",
        "print('odds: ' + str(odds))"
      ],
      "execution_count": 4,
      "outputs": [
        {
          "output_type": "stream",
          "text": [
            "odds: [1, 3, 5, 7, 9]\n"
          ],
          "name": "stdout"
        }
      ]
    },
    {
      "cell_type": "markdown",
      "metadata": {
        "id": "iBdWI8RGSpSd",
        "colab_type": "text"
      },
      "source": [
        "**get multiples of 10**"
      ]
    },
    {
      "cell_type": "code",
      "metadata": {
        "id": "L9W_XRAvSpSe",
        "colab_type": "code",
        "colab": {
          "base_uri": "https://localhost:8080/",
          "height": 34
        },
        "outputId": "754e5686-7eb7-4a78-ef50-66718ab63799"
      },
      "source": [
        "ten_x = [x * 10 for x in range(10)]\n",
        "print('ten_x: ' + str(ten_x))"
      ],
      "execution_count": 5,
      "outputs": [
        {
          "output_type": "stream",
          "text": [
            "ten_x: [0, 10, 20, 30, 40, 50, 60, 70, 80, 90]\n"
          ],
          "name": "stdout"
        }
      ]
    },
    {
      "cell_type": "markdown",
      "metadata": {
        "id": "0iCy_0KBSpSi",
        "colab_type": "text"
      },
      "source": [
        "**get all numbers from a string**"
      ]
    },
    {
      "cell_type": "code",
      "metadata": {
        "id": "ZBOD43iOSpSk",
        "colab_type": "code",
        "colab": {
          "base_uri": "https://localhost:8080/",
          "height": 34
        },
        "outputId": "27803504-cbe3-4451-946a-05bb6997f656"
      },
      "source": [
        "s = 'I love 2 go t0 the store 7 times a w3ek.'\n",
        "nums = [x for x in s if x.isnumeric()]\n",
        "print('nums: ' + ''.join(nums))"
      ],
      "execution_count": 6,
      "outputs": [
        {
          "output_type": "stream",
          "text": [
            "nums: 2073\n"
          ],
          "name": "stdout"
        }
      ]
    },
    {
      "cell_type": "markdown",
      "metadata": {
        "id": "u1iD00UJSpSn",
        "colab_type": "text"
      },
      "source": [
        "**get index of a list item**"
      ]
    },
    {
      "cell_type": "code",
      "metadata": {
        "id": "_jjpTYN3SpSp",
        "colab_type": "code",
        "colab": {
          "base_uri": "https://localhost:8080/",
          "height": 34
        },
        "outputId": "81ae7e6e-8982-4e58-ddae-4d3134324d0d"
      },
      "source": [
        "names = ['Cosmo', 'Pedro', 'Anu', 'Ray']\n",
        "idx = [k for k, v in enumerate(names) if v == 'Anu']\n",
        "print('index = ' + str(idx[0]))"
      ],
      "execution_count": 7,
      "outputs": [
        {
          "output_type": "stream",
          "text": [
            "index = 2\n"
          ],
          "name": "stdout"
        }
      ]
    },
    {
      "cell_type": "markdown",
      "metadata": {
        "id": "yrloBExySpSu",
        "colab_type": "text"
      },
      "source": [
        "**delete an item from a list**"
      ]
    },
    {
      "cell_type": "code",
      "metadata": {
        "id": "1HuiAhqwSpSv",
        "colab_type": "code",
        "colab": {
          "base_uri": "https://localhost:8080/",
          "height": 34
        },
        "outputId": "3fc4493d-4599-48b1-a619-72e3c5de1e3a"
      },
      "source": [
        "letters = [x for x in 'ABCDEF']\n",
        "random.shuffle(letters)\n",
        "letrs = [a for a in letters if a != 'C']\n",
        "print(letters, letrs)"
      ],
      "execution_count": 8,
      "outputs": [
        {
          "output_type": "stream",
          "text": [
            "['F', 'E', 'C', 'A', 'B', 'D'] ['F', 'E', 'A', 'B', 'D']\n"
          ],
          "name": "stdout"
        }
      ]
    },
    {
      "cell_type": "markdown",
      "metadata": {
        "id": "s_ZVVqlCSpSz",
        "colab_type": "text"
      },
      "source": [
        "**if-else condition in a comprehension**  \n",
        "must come before iteration."
      ]
    },
    {
      "cell_type": "code",
      "metadata": {
        "id": "-Q_sRCQTSpS0",
        "colab_type": "code",
        "colab": {
          "base_uri": "https://localhost:8080/",
          "height": 34
        },
        "outputId": "72c27a25-37ac-42ee-b7a9-05693abe900c"
      },
      "source": [
        "nums = [5, 3, 10, 18, 6, 7]\n",
        "new_list = [x if x%2 == 0 else 10*x for x in nums]\n",
        "print('new list: ' + str(new_list))"
      ],
      "execution_count": 9,
      "outputs": [
        {
          "output_type": "stream",
          "text": [
            "new list: [50, 30, 10, 18, 6, 70]\n"
          ],
          "name": "stdout"
        }
      ]
    },
    {
      "cell_type": "markdown",
      "metadata": {
        "id": "l6hnwGqwSpS3",
        "colab_type": "text"
      },
      "source": [
        "**nested loop iteration for 2D list**  \n",
        "b is the subsets, x is the values."
      ]
    },
    {
      "cell_type": "code",
      "metadata": {
        "id": "G94wUMoJSpS4",
        "colab_type": "code",
        "colab": {
          "base_uri": "https://localhost:8080/",
          "height": 34
        },
        "outputId": "5a98d2f8-e9fb-4ed1-dc77-7ea67c541d1d"
      },
      "source": [
        "a = [[1,2],[3,4]]\n",
        "new_list = [x for b in a for x in b]\n",
        "print(new_list)"
      ],
      "execution_count": 10,
      "outputs": [
        {
          "output_type": "stream",
          "text": [
            "[1, 2, 3, 4]\n"
          ],
          "name": "stdout"
        }
      ]
    }
  ]
}