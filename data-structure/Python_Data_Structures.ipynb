{
  "nbformat": 4,
  "nbformat_minor": 0,
  "metadata": {
    "kernelspec": {
      "display_name": "Python 3",
      "language": "python",
      "name": "python3"
    },
    "language_info": {
      "codemirror_mode": {
        "name": "ipython",
        "version": 3
      },
      "file_extension": ".py",
      "mimetype": "text/x-python",
      "name": "python",
      "nbconvert_exporter": "python",
      "pygments_lexer": "ipython3",
      "version": "3.7.0"
    },
    "colab": {
      "name": "Python Data Structures.ipynb",
      "provenance": [],
      "collapsed_sections": [],
      "include_colab_link": true
    }
  },
  "cells": [
    {
      "cell_type": "markdown",
      "metadata": {
        "id": "view-in-github",
        "colab_type": "text"
      },
      "source": [
        "<a href=\"https://colab.research.google.com/github/sanikamal/python-atoz/blob/master/data-structure/Python_Data_Structures.ipynb\" target=\"_parent\"><img src=\"https://colab.research.google.com/assets/colab-badge.svg\" alt=\"Open In Colab\"/></a>"
      ]
    },
    {
      "cell_type": "markdown",
      "metadata": {
        "id": "5_NSX-fCN7Lf",
        "colab_type": "text"
      },
      "source": [
        "# Intro to Python Data Structures\n",
        "Strings, Lists, Tuples, Sets, Dicts  \n",
        "Created in Python 3.7  \n",
        "© Sani Kamal, 2019.\n",
        "\n",
        "## Sequences: String, List, Tuple\n",
        "****\n",
        "[Documentation](https://docs.python.org/3/library/stdtypes.html#sequence-types-list-tuple-range)  \n",
        "**indexing** - access any item in the sequence using its index.  \n",
        "Indexing starts with 0 for the first element."
      ]
    },
    {
      "cell_type": "code",
      "metadata": {
        "id": "EYzhNcfqN7Li",
        "colab_type": "code",
        "colab": {
          "base_uri": "https://localhost:8080/",
          "height": 68
        },
        "outputId": "51406302-6254-4a8b-ca25-8845d265d96a"
      },
      "source": [
        "# string\n",
        "x = 'horse'\n",
        "print (x[3])\n",
        "\n",
        "# list\n",
        "x = ['mango', 'apple', 'banana']\n",
        "print (x[1])\n",
        "\n",
        "# tuple\n",
        "x = ('sani', 'rashmi', 'priya', 'neelam')\n",
        "print(x[0])"
      ],
      "execution_count": 1,
      "outputs": [
        {
          "output_type": "stream",
          "text": [
            "s\n",
            "apple\n",
            "sani\n"
          ],
          "name": "stdout"
        }
      ]
    },
    {
      "cell_type": "markdown",
      "metadata": {
        "id": "YS3ceYJJN7Ln",
        "colab_type": "text"
      },
      "source": [
        "**slicing** - slice out substrings, sublists, subtuples using indexes.  \n",
        "`[start : end+1 : step]`"
      ]
    },
    {
      "cell_type": "code",
      "metadata": {
        "id": "qiu8fqXiN7Lo",
        "colab_type": "code",
        "colab": {
          "base_uri": "https://localhost:8080/",
          "height": 136
        },
        "outputId": "70e17b53-3444-4790-c08a-a30efe036dd5"
      },
      "source": [
        "x = 'tensorflow'\n",
        "print(x[1:4])\n",
        "print(x[1:6:2])\n",
        "print(x[3:])\n",
        "print(x[:5])\n",
        "print(x[-1])\n",
        "print(x[-3:])\n",
        "print(x[:-2])"
      ],
      "execution_count": 3,
      "outputs": [
        {
          "output_type": "stream",
          "text": [
            "ens\n",
            "esr\n",
            "sorflow\n",
            "tenso\n",
            "w\n",
            "low\n",
            "tensorfl\n"
          ],
          "name": "stdout"
        }
      ]
    },
    {
      "cell_type": "markdown",
      "metadata": {
        "id": "8CYMVuEqN7Lr",
        "colab_type": "text"
      },
      "source": [
        "**adding / concatenating** - combine 2 sequences of the same type by using `+`"
      ]
    },
    {
      "cell_type": "code",
      "metadata": {
        "id": "UZ3DxVyzN7Ls",
        "colab_type": "code",
        "colab": {
          "base_uri": "https://localhost:8080/",
          "height": 68
        },
        "outputId": "57fb899c-487c-4af6-9f48-32aff6063763"
      },
      "source": [
        "# string\n",
        "x = 'tensorflow' + 'google'\n",
        "print(x)\n",
        "\n",
        "# list\n",
        "y = ['abc', 'def'] + ['xyz']\n",
        "print(y)\n",
        "\n",
        "# tuple\n",
        "z = ('Mina', 'Priya', 'Rose') + ('Neelam',)\n",
        "print(z)"
      ],
      "execution_count": 4,
      "outputs": [
        {
          "output_type": "stream",
          "text": [
            "tensorflowgoogle\n",
            "['abc', 'def', 'xyz']\n",
            "('Mina', 'Priya', 'Rose', 'Neelam')\n"
          ],
          "name": "stdout"
        }
      ]
    },
    {
      "cell_type": "markdown",
      "metadata": {
        "id": "BYwBfoyLN7Lv",
        "colab_type": "text"
      },
      "source": [
        "**multiplying** - multiply a sequence using *"
      ]
    },
    {
      "cell_type": "code",
      "metadata": {
        "id": "V6Jcg6dqN7Lw",
        "colab_type": "code",
        "colab": {
          "base_uri": "https://localhost:8080/",
          "height": 68
        },
        "outputId": "6e1a61de-5c1d-4995-f1db-6f2d967ce8cd"
      },
      "source": [
        "# string\n",
        "x = 'finder' * 3\n",
        "print(x)\n",
        "\n",
        "# list\n",
        "y = [18, 51] * 3\n",
        "print(y)\n",
        "\n",
        "# tuple\n",
        "z = (21, 14) * 3\n",
        "print(z)"
      ],
      "execution_count": 5,
      "outputs": [
        {
          "output_type": "stream",
          "text": [
            "finderfinderfinder\n",
            "[18, 51, 18, 51, 18, 51]\n",
            "(21, 14, 21, 14, 21, 14)\n"
          ],
          "name": "stdout"
        }
      ]
    },
    {
      "cell_type": "markdown",
      "metadata": {
        "id": "xBYS04ttN7Lz",
        "colab_type": "text"
      },
      "source": [
        "**checking membership** - test whether an item is or is not in a sequence."
      ]
    },
    {
      "cell_type": "code",
      "metadata": {
        "id": "XZEsGXFMN7Lz",
        "colab_type": "code",
        "colab": {
          "base_uri": "https://localhost:8080/",
          "height": 68
        },
        "outputId": "61016751-6257-49cf-d6b5-9678e9cb6c3d"
      },
      "source": [
        "# string\n",
        "x = 'bug'\n",
        "print('u' in x)\n",
        "\n",
        "# list\n",
        "y = ['pig', 'cow', 'horse']\n",
        "print('cow' not in y)\n",
        "\n",
        "# tuple\n",
        "z = ('sani', 'john', 'priya', 'mala')\n",
        "print('sani' in z)"
      ],
      "execution_count": 6,
      "outputs": [
        {
          "output_type": "stream",
          "text": [
            "True\n",
            "False\n",
            "True\n"
          ],
          "name": "stdout"
        }
      ]
    },
    {
      "cell_type": "markdown",
      "metadata": {
        "id": "GAbIh8VbN7L2",
        "colab_type": "text"
      },
      "source": [
        "**iterating** - iterating through the items in a sequence"
      ]
    },
    {
      "cell_type": "code",
      "metadata": {
        "id": "atL0xC4eN7L3",
        "colab_type": "code",
        "colab": {
          "base_uri": "https://localhost:8080/",
          "height": 153
        },
        "outputId": "931b5d50-a5d2-4f1e-f40a-1bbe34cc78d7"
      },
      "source": [
        "# item\n",
        "x = [7, 8, 3,4,9]\n",
        "for item in x:\n",
        "    print(item)\n",
        "    \n",
        "# index & item\n",
        "y = [7, 8, 3]\n",
        "for index, item in enumerate(y):\n",
        "    print(index, item)"
      ],
      "execution_count": 7,
      "outputs": [
        {
          "output_type": "stream",
          "text": [
            "7\n",
            "8\n",
            "3\n",
            "4\n",
            "9\n",
            "0 7\n",
            "1 8\n",
            "2 3\n"
          ],
          "name": "stdout"
        }
      ]
    },
    {
      "cell_type": "markdown",
      "metadata": {
        "id": "hnv_nkpaN7L5",
        "colab_type": "text"
      },
      "source": [
        "**number of items** - count the number of items in a sequence"
      ]
    },
    {
      "cell_type": "code",
      "metadata": {
        "id": "niAIIv0eN7L6",
        "colab_type": "code",
        "colab": {
          "base_uri": "https://localhost:8080/",
          "height": 68
        },
        "outputId": "a0c023c9-a95d-476e-e0cb-538622387456"
      },
      "source": [
        "# string\n",
        "x = 'string'\n",
        "print(len(x))\n",
        "\n",
        "# list\n",
        "y = ['pig', 'cow', 'horse']\n",
        "print(len(y))\n",
        "\n",
        "# tuple\n",
        "z = ('sani', 'rose', 'jesmine', 'nitul')\n",
        "print(len(z))"
      ],
      "execution_count": 8,
      "outputs": [
        {
          "output_type": "stream",
          "text": [
            "6\n",
            "3\n",
            "4\n"
          ],
          "name": "stdout"
        }
      ]
    },
    {
      "cell_type": "markdown",
      "metadata": {
        "id": "cEJZYk17N7L9",
        "colab_type": "text"
      },
      "source": [
        "**minimum** - find the minimum item in a sequence lexicographically.  \n",
        "Alpha or numeric types, but cannot mix types."
      ]
    },
    {
      "cell_type": "code",
      "metadata": {
        "id": "bwudXh40N7L9",
        "colab_type": "code",
        "colab": {
          "base_uri": "https://localhost:8080/",
          "height": 68
        },
        "outputId": "fe379ccc-6fe9-4d14-ba40-922ee9954cd4"
      },
      "source": [
        "# string\n",
        "x = 'finder'\n",
        "print(min(x))\n",
        "\n",
        "# list\n",
        "y = ['mango', 'apple', 'banana']\n",
        "print(min(y))\n",
        "\n",
        "# tuple\n",
        "z = ('sani', 'rose', 'jesmine', 'nitul')\n",
        "print(min(z))"
      ],
      "execution_count": 10,
      "outputs": [
        {
          "output_type": "stream",
          "text": [
            "d\n",
            "apple\n",
            "jesmine\n"
          ],
          "name": "stdout"
        }
      ]
    },
    {
      "cell_type": "markdown",
      "metadata": {
        "id": "Bar2okJSN7MA",
        "colab_type": "text"
      },
      "source": [
        "**maximum** - find the maximum item in a sequence lexicographically.  \n",
        "Alpha or numeric types, but cannot mix types."
      ]
    },
    {
      "cell_type": "code",
      "metadata": {
        "id": "R1WY9FwpN7MB",
        "colab_type": "code",
        "colab": {
          "base_uri": "https://localhost:8080/",
          "height": 68
        },
        "outputId": "77d7a11a-2eac-4e8f-fab6-df96a25e6eaa"
      },
      "source": [
        "# string\n",
        "x = 'string'\n",
        "print(max(x))\n",
        "\n",
        "# list\n",
        "y = ['mango', 'apple', 'banana']\n",
        "print(max(y))\n",
        "\n",
        "# tuple\n",
        "z = ('sani', 'rose', 'jesmine', 'nitul')\n",
        "print(max(z))"
      ],
      "execution_count": 11,
      "outputs": [
        {
          "output_type": "stream",
          "text": [
            "t\n",
            "mango\n",
            "sani\n"
          ],
          "name": "stdout"
        }
      ]
    },
    {
      "cell_type": "markdown",
      "metadata": {
        "id": "dtxDJFl9N7MD",
        "colab_type": "text"
      },
      "source": [
        "**sum** - find the sum of items in a sequence.  \n",
        "Entire sequence must be numeric."
      ]
    },
    {
      "cell_type": "code",
      "metadata": {
        "id": "ZzCzti2GN7ME",
        "colab_type": "code",
        "colab": {
          "base_uri": "https://localhost:8080/",
          "height": 68
        },
        "outputId": "a22d14fe-0078-40e8-d9bc-e4772b586399"
      },
      "source": [
        "# string -> error\n",
        "# x = [5, 7, 'bug']\n",
        "# print(sum(x))    # generates an error\n",
        "\n",
        "# list\n",
        "y = [2, 5, 8, 12,89,88]\n",
        "print(sum(y))\n",
        "print(sum(y[-2:]))\n",
        "\n",
        "# tuple\n",
        "z = (50, 4, 7, 19,78,45)\n",
        "print(sum(z))"
      ],
      "execution_count": 12,
      "outputs": [
        {
          "output_type": "stream",
          "text": [
            "204\n",
            "177\n",
            "203\n"
          ],
          "name": "stdout"
        }
      ]
    },
    {
      "cell_type": "markdown",
      "metadata": {
        "id": "he90AYtGN7MH",
        "colab_type": "text"
      },
      "source": [
        "**sorting** - returns a new list of items in sorted order.  \n",
        "Does not change the original list."
      ]
    },
    {
      "cell_type": "code",
      "metadata": {
        "id": "hh8K0nWXN7MI",
        "colab_type": "code",
        "colab": {
          "base_uri": "https://localhost:8080/",
          "height": 68
        },
        "outputId": "89a2e328-d859-427a-99de-607f443b743f"
      },
      "source": [
        "# string\n",
        "x = 'tensorflow'\n",
        "print(sorted(x))\n",
        "\n",
        "# list\n",
        "y = ['mango', 'apple', 'banana']\n",
        "print(sorted(y))\n",
        "\n",
        "# tuple\n",
        "z = ('sani', 'rose', 'jesmine', 'nitul')\n",
        "print(sorted(z))"
      ],
      "execution_count": 13,
      "outputs": [
        {
          "output_type": "stream",
          "text": [
            "['e', 'f', 'l', 'n', 'o', 'o', 'r', 's', 't', 'w']\n",
            "['apple', 'banana', 'mango']\n",
            "['jesmine', 'nitul', 'rose', 'sani']\n"
          ],
          "name": "stdout"
        }
      ]
    },
    {
      "cell_type": "markdown",
      "metadata": {
        "id": "t5CZHET2N7ML",
        "colab_type": "text"
      },
      "source": [
        "**sorting** - sort by second letter  \n",
        "Add a key parameter and a lambda function to return the second character.  \n",
        "(the word *key* here is a defined parameter name, *k* is an arbitrary variable name)."
      ]
    },
    {
      "cell_type": "code",
      "metadata": {
        "id": "LWchGki5N7MO",
        "colab_type": "code",
        "colab": {
          "base_uri": "https://localhost:8080/",
          "height": 34
        },
        "outputId": "11adebc2-0246-4b47-bcf5-2be941143e9c"
      },
      "source": [
        "z = ('sani', 'rose', 'jesmine', 'nitul')\n",
        "print(sorted(z, key=lambda k: k[1]))"
      ],
      "execution_count": 14,
      "outputs": [
        {
          "output_type": "stream",
          "text": [
            "['sani', 'jesmine', 'nitul', 'rose']\n"
          ],
          "name": "stdout"
        }
      ]
    },
    {
      "cell_type": "markdown",
      "metadata": {
        "id": "TYVx4UjcN7MR",
        "colab_type": "text"
      },
      "source": [
        "**count(item)** - returns count of an item"
      ]
    },
    {
      "cell_type": "code",
      "metadata": {
        "id": "5SC9BbkwN7MR",
        "colab_type": "code",
        "colab": {
          "base_uri": "https://localhost:8080/",
          "height": 68
        },
        "outputId": "e89af07e-67c3-46f0-e135-8888965dad51"
      },
      "source": [
        "# string\n",
        "x = 'orange'\n",
        "print(x.count('p'))\n",
        "\n",
        "# list\n",
        "y = ['mango', 'apple', 'banana']\n",
        "print(y.count('mango'))\n",
        "\n",
        "# tuple\n",
        "z = ('sani', 'rose', 'jesmine', 'nitul')\n",
        "print(z.count('sani'))"
      ],
      "execution_count": 15,
      "outputs": [
        {
          "output_type": "stream",
          "text": [
            "0\n",
            "1\n",
            "1\n"
          ],
          "name": "stdout"
        }
      ]
    },
    {
      "cell_type": "markdown",
      "metadata": {
        "id": "JX5sLudUN7MU",
        "colab_type": "text"
      },
      "source": [
        "**index(item)** - returns the index of the first occurence of an item."
      ]
    },
    {
      "cell_type": "code",
      "metadata": {
        "id": "3vw3scwgN7MV",
        "colab_type": "code",
        "colab": {
          "base_uri": "https://localhost:8080/",
          "height": 68
        },
        "outputId": "c5521f54-3abb-4aaa-e40b-17d1df9c25aa"
      },
      "source": [
        "# string\n",
        "x = 'apple'\n",
        "print(x.index('p'))\n",
        "\n",
        "# list\n",
        "y = ['mango', 'apple', 'banana']\n",
        "print(y.index('apple'))\n",
        "\n",
        "# tuple\n",
        "z = ('sani', 'rose', 'jesmine', 'nitul')\n",
        "print(z.index('nitul'))"
      ],
      "execution_count": 16,
      "outputs": [
        {
          "output_type": "stream",
          "text": [
            "1\n",
            "1\n",
            "3\n"
          ],
          "name": "stdout"
        }
      ]
    },
    {
      "cell_type": "markdown",
      "metadata": {
        "id": "w7VCyDKuN7MX",
        "colab_type": "text"
      },
      "source": [
        "**unpacking** - unpack the n items of a sequence into n variables"
      ]
    },
    {
      "cell_type": "code",
      "metadata": {
        "id": "2VNPR3BvN7MY",
        "colab_type": "code",
        "colab": {
          "base_uri": "https://localhost:8080/",
          "height": 34
        },
        "outputId": "89ed820c-ba6f-49a9-a43f-4ac5a61df460"
      },
      "source": [
        "x = ['mango', 'apple', 'banana']\n",
        "a, b, c = x\n",
        "print(a, b, c)"
      ],
      "execution_count": 17,
      "outputs": [
        {
          "output_type": "stream",
          "text": [
            "mango apple banana\n"
          ],
          "name": "stdout"
        }
      ]
    },
    {
      "cell_type": "markdown",
      "metadata": {
        "id": "_-UCi31PN7Ma",
        "colab_type": "text"
      },
      "source": [
        "## Lists  \n",
        "****\n",
        "- General purpose\n",
        "- Most widely used data structure \n",
        "- Grow and shrink size as needed\n",
        "- Sequence type\n",
        "- Sortable  \n",
        "\n",
        "**constructors** - creating a new list"
      ]
    },
    {
      "cell_type": "code",
      "metadata": {
        "id": "Z3UuR1RhN7Mb",
        "colab_type": "code",
        "colab": {
          "base_uri": "https://localhost:8080/",
          "height": 51
        },
        "outputId": "11adec65-d005-4b7e-dd8c-38c3582b9ede"
      },
      "source": [
        "x = list()\n",
        "y = ['a', 25, 'dog','cat', 8.43]\n",
        "tuple1 = (10, 20)\n",
        "z = list(tuple1)\n",
        "\n",
        "# list comprehension\n",
        "a = [m for m in range(18)]\n",
        "print(a)\n",
        "b = [i**2 for i in range(20) if i>4]\n",
        "print(b)"
      ],
      "execution_count": 18,
      "outputs": [
        {
          "output_type": "stream",
          "text": [
            "[0, 1, 2, 3, 4, 5, 6, 7, 8, 9, 10, 11, 12, 13, 14, 15, 16, 17]\n",
            "[25, 36, 49, 64, 81, 100, 121, 144, 169, 196, 225, 256, 289, 324, 361]\n"
          ],
          "name": "stdout"
        }
      ]
    },
    {
      "cell_type": "markdown",
      "metadata": {
        "id": "YhuaPXASN7Mf",
        "colab_type": "text"
      },
      "source": [
        "**delete** - delete a list or an item in a list"
      ]
    },
    {
      "cell_type": "code",
      "metadata": {
        "id": "vtxJ0wl1N7Mg",
        "colab_type": "code",
        "colab": {
          "base_uri": "https://localhost:8080/",
          "height": 34
        },
        "outputId": "a137217f-91f3-478e-ca7d-e99c7eb5f879"
      },
      "source": [
        "x = [5, 3, 8, 6,81]\n",
        "del(x[1])\n",
        "print(x)\n",
        "del(x)    # list x no longer exists"
      ],
      "execution_count": 19,
      "outputs": [
        {
          "output_type": "stream",
          "text": [
            "[5, 8, 6, 81]\n"
          ],
          "name": "stdout"
        }
      ]
    },
    {
      "cell_type": "markdown",
      "metadata": {
        "id": "_eZ4jcu0N7Mj",
        "colab_type": "text"
      },
      "source": [
        "**append** - append an item to a list"
      ]
    },
    {
      "cell_type": "code",
      "metadata": {
        "id": "oJMZ64IAN7Mk",
        "colab_type": "code",
        "colab": {
          "base_uri": "https://localhost:8080/",
          "height": 34
        },
        "outputId": "4fde7c6e-52dd-4935-a65d-95e4574f4486"
      },
      "source": [
        "x = [5, 3, 8, 6]\n",
        "x.append(7)\n",
        "print(x)"
      ],
      "execution_count": 20,
      "outputs": [
        {
          "output_type": "stream",
          "text": [
            "[5, 3, 8, 6, 7]\n"
          ],
          "name": "stdout"
        }
      ]
    },
    {
      "cell_type": "markdown",
      "metadata": {
        "id": "pEOaQNTSN7Mm",
        "colab_type": "text"
      },
      "source": [
        "**extend** - append a sequence to a list"
      ]
    },
    {
      "cell_type": "code",
      "metadata": {
        "id": "r6kjh8Z7N7Mn",
        "colab_type": "code",
        "colab": {
          "base_uri": "https://localhost:8080/",
          "height": 34
        },
        "outputId": "68d05c1c-0b3f-4fb7-c314-71e76d740c48"
      },
      "source": [
        "x = [5, 3, 8, 6]\n",
        "y = [12, 13]\n",
        "x.extend(y)\n",
        "print(x)"
      ],
      "execution_count": 21,
      "outputs": [
        {
          "output_type": "stream",
          "text": [
            "[5, 3, 8, 6, 12, 13]\n"
          ],
          "name": "stdout"
        }
      ]
    },
    {
      "cell_type": "markdown",
      "metadata": {
        "id": "6Aj9P0vON7Mq",
        "colab_type": "text"
      },
      "source": [
        "**insert** - insert an item at a given index"
      ]
    },
    {
      "cell_type": "code",
      "metadata": {
        "id": "9mEPBgnvN7Mr",
        "colab_type": "code",
        "colab": {
          "base_uri": "https://localhost:8080/",
          "height": 51
        },
        "outputId": "f07ff875-802f-4c78-b6e3-ffef5c682d3c"
      },
      "source": [
        "x = [5, 3, 8, 6]\n",
        "x.insert(1, 7)\n",
        "print(x)\n",
        "x.insert(1, ['a', 'm'])\n",
        "print(x)"
      ],
      "execution_count": 22,
      "outputs": [
        {
          "output_type": "stream",
          "text": [
            "[5, 7, 3, 8, 6]\n",
            "[5, ['a', 'm'], 7, 3, 8, 6]\n"
          ],
          "name": "stdout"
        }
      ]
    },
    {
      "cell_type": "markdown",
      "metadata": {
        "id": "B5skd5GgN7Mt",
        "colab_type": "text"
      },
      "source": [
        "**pop** - pops last item off list and returns item"
      ]
    },
    {
      "cell_type": "code",
      "metadata": {
        "id": "busWTD3IN7Mu",
        "colab_type": "code",
        "colab": {
          "base_uri": "https://localhost:8080/",
          "height": 51
        },
        "outputId": "7313dfab-5711-4e26-b816-cd159d4a10de"
      },
      "source": [
        "x = [5, 3, 8, 6]\n",
        "x.pop()    # pop off the 6\n",
        "print(x)\n",
        "print(x.pop())"
      ],
      "execution_count": 23,
      "outputs": [
        {
          "output_type": "stream",
          "text": [
            "[5, 3, 8]\n",
            "8\n"
          ],
          "name": "stdout"
        }
      ]
    },
    {
      "cell_type": "markdown",
      "metadata": {
        "id": "bsGd5xj5N7Mx",
        "colab_type": "text"
      },
      "source": [
        "**remove** - remove first instance of an item"
      ]
    },
    {
      "cell_type": "code",
      "metadata": {
        "id": "y-MBZGkvN7My",
        "colab_type": "code",
        "colab": {
          "base_uri": "https://localhost:8080/",
          "height": 34
        },
        "outputId": "9e59be46-125f-4e31-ca27-026f46d54a85"
      },
      "source": [
        "x = [5, 3, 8, 6, 3]\n",
        "x.remove(3)\n",
        "print(x)"
      ],
      "execution_count": 24,
      "outputs": [
        {
          "output_type": "stream",
          "text": [
            "[5, 8, 6, 3]\n"
          ],
          "name": "stdout"
        }
      ]
    },
    {
      "cell_type": "markdown",
      "metadata": {
        "id": "IbDKwmmQN7M1",
        "colab_type": "text"
      },
      "source": [
        "**reverse** - reverse the order of the list. It is an in-place sort, meaning it changes the original list."
      ]
    },
    {
      "cell_type": "code",
      "metadata": {
        "id": "rslaBfRXN7M1",
        "colab_type": "code",
        "colab": {
          "base_uri": "https://localhost:8080/",
          "height": 34
        },
        "outputId": "e8dd43e2-b7ce-4481-b2fe-80cc2059590e"
      },
      "source": [
        "x = [5, 3, 8, 6]\n",
        "x.reverse()\n",
        "print(x)"
      ],
      "execution_count": 25,
      "outputs": [
        {
          "output_type": "stream",
          "text": [
            "[6, 8, 3, 5]\n"
          ],
          "name": "stdout"
        }
      ]
    },
    {
      "cell_type": "markdown",
      "metadata": {
        "id": "9F0eJjLyN7M4",
        "colab_type": "text"
      },
      "source": [
        "**sort** - sort the list in place.  \n",
        "Note:  \n",
        "sorted(x) returns a new sorted list without changing the original list x.  \n",
        "x.sort() puts the items of x in sorted order (sorts in place)."
      ]
    },
    {
      "cell_type": "code",
      "metadata": {
        "id": "CPwdL55eN7M5",
        "colab_type": "code",
        "colab": {
          "base_uri": "https://localhost:8080/",
          "height": 34
        },
        "outputId": "e95f68bc-a01c-4cc8-a5cc-d0e242ad7150"
      },
      "source": [
        "x = [5, 3, 8, 6]\n",
        "x.sort()\n",
        "print(x)"
      ],
      "execution_count": 26,
      "outputs": [
        {
          "output_type": "stream",
          "text": [
            "[3, 5, 6, 8]\n"
          ],
          "name": "stdout"
        }
      ]
    },
    {
      "cell_type": "markdown",
      "metadata": {
        "id": "Hf1b1_a6N7M-",
        "colab_type": "text"
      },
      "source": [
        "**reverse sort** - sort items descending.  \n",
        "Use *reverse=True* parameter to the sort function."
      ]
    },
    {
      "cell_type": "code",
      "metadata": {
        "id": "2xTdVEB8N7M-",
        "colab_type": "code",
        "colab": {
          "base_uri": "https://localhost:8080/",
          "height": 34
        },
        "outputId": "bf0739de-987e-4dbf-daf0-e905bce173b9"
      },
      "source": [
        "x = [5, 3, 8, 6]\n",
        "x.sort(reverse=True)\n",
        "print(x)"
      ],
      "execution_count": 27,
      "outputs": [
        {
          "output_type": "stream",
          "text": [
            "[8, 6, 5, 3]\n"
          ],
          "name": "stdout"
        }
      ]
    },
    {
      "cell_type": "markdown",
      "metadata": {
        "id": "57H9IIfRN7NB",
        "colab_type": "text"
      },
      "source": [
        "## Tuples\n",
        "****\n",
        "- Immutable (can’t add/change)\n",
        "- Useful for fixed data\n",
        "- Faster than Lists\n",
        "- Sequence type  \n",
        "  \n",
        "**constructors** - creating new tuples."
      ]
    },
    {
      "cell_type": "code",
      "metadata": {
        "id": "3o78ixteN7NC",
        "colab_type": "code",
        "colab": {
          "base_uri": "https://localhost:8080/",
          "height": 51
        },
        "outputId": "16a3d5bc-ba4c-4dc7-c56d-5ed0eed55eff"
      },
      "source": [
        "x = ()\n",
        "x = (1, 2, 3)\n",
        "x = 1, 2, 3\n",
        "x = 2,    # the comma tells Python it's a tuple\n",
        "print(x, type(x))\n",
        "\n",
        "list1 = [2, 4, 6]\n",
        "x = tuple(list1)\n",
        "print(x, type(x))"
      ],
      "execution_count": 28,
      "outputs": [
        {
          "output_type": "stream",
          "text": [
            "(2,) <class 'tuple'>\n",
            "(2, 4, 6) <class 'tuple'>\n"
          ],
          "name": "stdout"
        }
      ]
    },
    {
      "cell_type": "markdown",
      "metadata": {
        "id": "FUdxkI8wN7NF",
        "colab_type": "text"
      },
      "source": [
        "**tuples are immutable**, but member objects may be mutable."
      ]
    },
    {
      "cell_type": "code",
      "metadata": {
        "id": "owtuQamfN7NG",
        "colab_type": "code",
        "colab": {
          "base_uri": "https://localhost:8080/",
          "height": 68
        },
        "outputId": "98eee64d-d9b0-4690-f38b-0bd3002116c3"
      },
      "source": [
        "x = (1, 2, 3)\n",
        "# del(x[1])       # fails\n",
        "# x[1] = 8        # fails\n",
        "print(x)\n",
        "\n",
        "y = ([1, 2], 3)   # a tuple where the first item is a list\n",
        "del(y[0][1])      # delete the 2\n",
        "print(y)          # the list within the tuple is mutable\n",
        "\n",
        "y += (4,)         # concatenating two tuples works\n",
        "print(y)"
      ],
      "execution_count": 29,
      "outputs": [
        {
          "output_type": "stream",
          "text": [
            "(1, 2, 3)\n",
            "([1], 3)\n",
            "([1], 3, 4)\n"
          ],
          "name": "stdout"
        }
      ]
    },
    {
      "cell_type": "markdown",
      "metadata": {
        "id": "55BfBQiRN7NI",
        "colab_type": "text"
      },
      "source": [
        "## Sets\n",
        "****\n",
        "- Store non-duplicate items  \n",
        "- Very fast access vs Lists  \n",
        "- Math Set ops (union, intersect)  \n",
        "- Sets are Unordered  \n",
        "  \n",
        "**constructors** - creating new sets"
      ]
    },
    {
      "cell_type": "code",
      "metadata": {
        "id": "YGGplWWGN7NJ",
        "colab_type": "code",
        "colab": {
          "base_uri": "https://localhost:8080/",
          "height": 68
        },
        "outputId": "01e7ca9d-4b8e-49e5-8748-ae3cc5763b76"
      },
      "source": [
        "x = {3, 5, 3, 5}\n",
        "print(x)\n",
        "\n",
        "y = set()\n",
        "print(y)\n",
        "\n",
        "list1 = [2, 3, 4]\n",
        "z = set(list1)\n",
        "print(z)"
      ],
      "execution_count": 30,
      "outputs": [
        {
          "output_type": "stream",
          "text": [
            "{3, 5}\n",
            "set()\n",
            "{2, 3, 4}\n"
          ],
          "name": "stdout"
        }
      ]
    },
    {
      "cell_type": "markdown",
      "metadata": {
        "id": "e-QhAJHeN7NM",
        "colab_type": "text"
      },
      "source": [
        "**set operations**"
      ]
    },
    {
      "cell_type": "code",
      "metadata": {
        "id": "PkKHn7e2N7NN",
        "colab_type": "code",
        "colab": {
          "base_uri": "https://localhost:8080/",
          "height": 136
        },
        "outputId": "dadcd722-44ca-4b25-823a-d56590ad66e9"
      },
      "source": [
        "x = {3, 8, 5}\n",
        "print(x)\n",
        "x.add(7)\n",
        "print(x)\n",
        "\n",
        "x.remove(3)\n",
        "print(x)\n",
        "\n",
        "# get length of set x\n",
        "print(len(x))\n",
        "\n",
        "# check membership in x\n",
        "print(5 in x)\n",
        "\n",
        "# pop random item from set x\n",
        "print(x.pop(), x)\n",
        "\n",
        "# delete all items from set x\n",
        "x.clear()\n",
        "print(x)"
      ],
      "execution_count": 31,
      "outputs": [
        {
          "output_type": "stream",
          "text": [
            "{8, 3, 5}\n",
            "{8, 3, 5, 7}\n",
            "{8, 5, 7}\n",
            "3\n",
            "True\n",
            "8 {5, 7}\n",
            "set()\n"
          ],
          "name": "stdout"
        }
      ]
    },
    {
      "cell_type": "markdown",
      "metadata": {
        "id": "_9hEQJNkN7NP",
        "colab_type": "text"
      },
      "source": [
        "**Mathematical set operations**  \n",
        "intersection (AND): set1 & set2  \n",
        "union (OR): set1 | set2  \n",
        "symmetric difference (XOR): set1 ^ set2  \n",
        "difference (in set1 but not set2): set1 - set2  \n",
        "subset (set2 contains set1): set1 <= set2  \n",
        "superset (set1 contains set2): set1 >= set2"
      ]
    },
    {
      "cell_type": "code",
      "metadata": {
        "id": "IgNlu-cyN7NQ",
        "colab_type": "code",
        "colab": {
          "base_uri": "https://localhost:8080/",
          "height": 119
        },
        "outputId": "7e56305c-98d8-49a6-dcf4-d723cd45d9e9"
      },
      "source": [
        "s1 = {1, 2, 3}\n",
        "s2 = {3, 4, 5}\n",
        "print(s1 & s2)\n",
        "print(s1 | s2)\n",
        "print(s1 ^ s2)\n",
        "print(s1 - s2)\n",
        "print(s1 <= s2)\n",
        "print(s1 >= s2)"
      ],
      "execution_count": 32,
      "outputs": [
        {
          "output_type": "stream",
          "text": [
            "{3}\n",
            "{1, 2, 3, 4, 5}\n",
            "{1, 2, 4, 5}\n",
            "{1, 2}\n",
            "False\n",
            "False\n"
          ],
          "name": "stdout"
        }
      ]
    },
    {
      "cell_type": "markdown",
      "metadata": {
        "id": "cE_25qj-N7NT",
        "colab_type": "text"
      },
      "source": [
        "## Dictionaries (dict)\n",
        "****\n",
        "- Key/Value pairs\n",
        "- Associative array, like Java HashMap\n",
        "- Dicts are Unordered  \n",
        "\n",
        "**constructors** - creating new dictionaries"
      ]
    },
    {
      "cell_type": "code",
      "metadata": {
        "id": "Uj4Cvpc2N7NT",
        "colab_type": "code",
        "colab": {
          "base_uri": "https://localhost:8080/",
          "height": 68
        },
        "outputId": "c26ba08d-0913-4449-f2fa-12dda80ee919"
      },
      "source": [
        "x = {'mutton':25.3, 'beef':33.8, 'chicken':22.7}\n",
        "print(x)\n",
        "x = dict([('mutton', 25.3),('beef', 33.8),('chicken', 22.7)])\n",
        "print(x)\n",
        "x = dict(mutton=25.3, beef=33.8, chicken=22.7)\n",
        "print(x)"
      ],
      "execution_count": 34,
      "outputs": [
        {
          "output_type": "stream",
          "text": [
            "{'mutton': 25.3, 'beef': 33.8, 'chicken': 22.7}\n",
            "{'mutton': 25.3, 'beef': 33.8, 'chicken': 22.7}\n",
            "{'mutton': 25.3, 'beef': 33.8, 'chicken': 22.7}\n"
          ],
          "name": "stdout"
        }
      ]
    },
    {
      "cell_type": "markdown",
      "metadata": {
        "id": "xd9hKtdIN7NV",
        "colab_type": "text"
      },
      "source": [
        "**dict operations**"
      ]
    },
    {
      "cell_type": "code",
      "metadata": {
        "id": "g6F3xOafN7NW",
        "colab_type": "code",
        "colab": {
          "base_uri": "https://localhost:8080/",
          "height": 85
        },
        "outputId": "bf6d7011-ad6d-422d-d128-9c649c178998"
      },
      "source": [
        "x['shrimp'] = 38.2    # add or update\n",
        "print(x)\n",
        "\n",
        "# delete an item\n",
        "del(x['shrimp'])\n",
        "print(x)\n",
        "\n",
        "# get length of dict x\n",
        "print(len(x))\n",
        "\n",
        "# delete all items from dict x\n",
        "x.clear()\n",
        "print(x)\n",
        "\n",
        "# delete dict x\n",
        "del(x)"
      ],
      "execution_count": 35,
      "outputs": [
        {
          "output_type": "stream",
          "text": [
            "{'mutton': 25.3, 'beef': 33.8, 'chicken': 22.7, 'shrimp': 38.2}\n",
            "{'mutton': 25.3, 'beef': 33.8, 'chicken': 22.7}\n",
            "3\n",
            "{}\n"
          ],
          "name": "stdout"
        }
      ]
    },
    {
      "cell_type": "markdown",
      "metadata": {
        "id": "oxa6PqokN7NZ",
        "colab_type": "text"
      },
      "source": [
        "**accessing keys and values in a dict**  "
      ]
    },
    {
      "cell_type": "code",
      "metadata": {
        "id": "l93J3lqzN7Na",
        "colab_type": "code",
        "colab": {
          "base_uri": "https://localhost:8080/",
          "height": 102
        },
        "outputId": "255571e0-30bb-4877-df15-a9caf02dcd01"
      },
      "source": [
        "y = {'mutton':25.3, 'beef':33.8, 'chicken':22.7}\n",
        "print(y.keys())\n",
        "print(y.values())\n",
        "print(y.items())      # key-value pairs\n",
        "\n",
        "# check membership in y_keys (only looks in keys, not values)\n",
        "print('beef' in y)\n",
        "\n",
        "# check membership in y_values\n",
        "print('clams' in y.values())"
      ],
      "execution_count": 37,
      "outputs": [
        {
          "output_type": "stream",
          "text": [
            "dict_keys(['mutton', 'beef', 'chicken'])\n",
            "dict_values([25.3, 33.8, 22.7])\n",
            "dict_items([('mutton', 25.3), ('beef', 33.8), ('chicken', 22.7)])\n",
            "True\n",
            "False\n"
          ],
          "name": "stdout"
        }
      ]
    },
    {
      "cell_type": "markdown",
      "metadata": {
        "id": "z8iKrMCPN7Ne",
        "colab_type": "text"
      },
      "source": [
        "**iterating a dict** - note, items are in random order."
      ]
    },
    {
      "cell_type": "code",
      "metadata": {
        "id": "JFZ_ffTYN7Nf",
        "colab_type": "code",
        "colab": {
          "base_uri": "https://localhost:8080/",
          "height": 119
        },
        "outputId": "ab6cfcee-5f7d-4424-fef0-9cce72938e58"
      },
      "source": [
        "for key in y:\n",
        "    print(key, y[key])\n",
        "    \n",
        "for k, v in y.items():\n",
        "    print(k, v)"
      ],
      "execution_count": 38,
      "outputs": [
        {
          "output_type": "stream",
          "text": [
            "mutton 25.3\n",
            "beef 33.8\n",
            "chicken 22.7\n",
            "mutton 25.3\n",
            "beef 33.8\n",
            "chicken 22.7\n"
          ],
          "name": "stdout"
        }
      ]
    }
  ]
}