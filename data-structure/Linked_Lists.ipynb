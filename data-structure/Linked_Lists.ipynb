{
  "nbformat": 4,
  "nbformat_minor": 0,
  "metadata": {
    "colab": {
      "name": "Linked Lists.ipynb",
      "provenance": [],
      "toc_visible": true,
      "include_colab_link": true
    },
    "kernelspec": {
      "name": "python3",
      "display_name": "Python 3"
    }
  },
  "cells": [
    {
      "cell_type": "markdown",
      "metadata": {
        "id": "view-in-github",
        "colab_type": "text"
      },
      "source": [
        "<a href=\"https://colab.research.google.com/github/sanikamal/python-atoz/blob/master/data-structure/Linked_Lists.ipynb\" target=\"_parent\"><img src=\"https://colab.research.google.com/assets/colab-badge.svg\" alt=\"Open In Colab\"/></a>"
      ]
    },
    {
      "cell_type": "markdown",
      "metadata": {
        "id": "LXVCtMOM0fhF",
        "colab_type": "text"
      },
      "source": [
        "# Linked Lists\n",
        "A linked list is a linear data structure, in which the elements are not stored at contiguous memory locations. The elements in a linked list are linked using pointers "
      ]
    },
    {
      "cell_type": "markdown",
      "metadata": {
        "id": "TAONLlwr1G1p",
        "colab_type": "text"
      },
      "source": [
        "## Singly Linked List\n",
        "Singly linked list is a collection of nodes linked together in a sequential way where each node of singly linked list contains a data field and an address field which contains the reference of the next node. Singly linked list can contain multiple data fields but should contain at least single address field pointing to its connected next node."
      ]
    },
    {
      "cell_type": "markdown",
      "metadata": {
        "id": "C7Er8T4u0t6O",
        "colab_type": "text"
      },
      "source": [
        "### Node Class for Singly Linked List"
      ]
    },
    {
      "cell_type": "code",
      "metadata": {
        "id": "AqWx-Ob02Jvw",
        "colab_type": "code",
        "colab": {}
      },
      "source": [
        "class SLLNode:\n",
        "\n",
        "    def __init__(self, data):\n",
        "        self.data = data\n",
        "        self.next = None\n",
        "\n",
        "    def __repr__(self):\n",
        "        return \"SLLNode object: data={}\".format(self.data)\n",
        "\n",
        "    def get_data(self):\n",
        "        \"\"\"Return the self.data attribute.\"\"\"\n",
        "        return self.data\n",
        "\n",
        "    def set_data(self, new_data):\n",
        "        \"\"\"Replace the existing value of the self.data attribute with new_data\n",
        "        parameter.\"\"\"\n",
        "        self.data = new_data\n",
        "\n",
        "    def get_next(self):\n",
        "        \"\"\"Return the self.next attribute\"\"\"\n",
        "        return self.next\n",
        "\n",
        "    def set_next(self, new_next):\n",
        "        \"\"\"Replace the existing value of the self.next attribute with new_next\n",
        "        parameter.\"\"\"\n",
        "        self.next = new_next"
      ],
      "execution_count": 0,
      "outputs": []
    },
    {
      "cell_type": "code",
      "metadata": {
        "id": "KbMn2CVb2MNw",
        "colab_type": "code",
        "colab": {}
      },
      "source": [
        ""
      ],
      "execution_count": 0,
      "outputs": []
    },
    {
      "cell_type": "markdown",
      "metadata": {
        "id": "tb7IFScU1a9Y",
        "colab_type": "text"
      },
      "source": [
        "###Singly Linked List Class"
      ]
    },
    {
      "cell_type": "code",
      "metadata": {
        "id": "i2LbhTJY48Ox",
        "colab_type": "code",
        "colab": {}
      },
      "source": [
        "class SLL:\n",
        "\n",
        "    def __init__(self):\n",
        "        self.head = None\n",
        "\n",
        "    def __repr__(self):\n",
        "        return \"SLL object: head={}\".format(self.head)\n",
        "\n",
        "    def is_empty(self):\n",
        "        \"\"\"Returns True if the Linked List is empty. Otherwise, returns False.\"\"\"\n",
        "        return self.head is None  # self.head == None\n",
        "\n",
        "    def add_front(self, new_data):\n",
        "        \"\"\"Add a Node whose data is the new_data argument to the front of the\n",
        "        Linked List.\"\"\"\n",
        "        temp = SLLNode(new_data)\n",
        "        temp.set_next(self.head)\n",
        "        self.head = temp\n",
        "\n",
        "    def size(self):\n",
        "        \"\"\"Traverses the Linked List and returns an integer value representing\n",
        "        the number of nodes in the Linked List.\n",
        "\n",
        "        The time complexity is O(n) because every Node in the Linked List must\n",
        "        be visited in order to calculate the size of the Linked List.\n",
        "        \"\"\"\n",
        "        size = 0\n",
        "        if self.head is None:\n",
        "            return 0\n",
        "\n",
        "        current = self.head\n",
        "        while current is not None:  # While there are still Nodes left to count\n",
        "            size += 1\n",
        "            current = current.get_next()\n",
        "\n",
        "        return size\n",
        "\n",
        "    def search(self, data):\n",
        "        \"\"\"Traverses the Linked List and returns True if the data searched for\n",
        "        is present in one of the Nodes. Otherwise, it returns False.\n",
        "\n",
        "        The time complexity is O(n) because in the worst case, we have to visit\n",
        "        every Node in the list.\n",
        "        \"\"\"\n",
        "        if self.head is None:\n",
        "            return \"Linked List is empty. No Nodes to search.\"\n",
        "\n",
        "        current = self.head\n",
        "        while current is not None:\n",
        "            if current.get_data() == data:\n",
        "                return True\n",
        "            else:\n",
        "                current = current.get_next()\n",
        "\n",
        "        return False\n",
        "\n",
        "    def remove(self, data):\n",
        "        \"\"\"Removes the first occurence of a Node that contains the data argument\n",
        "        as its self.data variable. Returns nothing.\n",
        "\n",
        "        The time complexity is O(n) because in the worst case we have to visit\n",
        "        every Node before we find the one we need to remove.\n",
        "        \"\"\"\n",
        "        if self.head is None:\n",
        "            return \"Linked List is empty. No Nodes to remove.\"\n",
        "\n",
        "        current = self.head\n",
        "        previous = None\n",
        "        found = False\n",
        "        while not found:\n",
        "            if current.get_data() == data:\n",
        "                found = True\n",
        "            else:\n",
        "                if current.get_next() == None:\n",
        "                    return \"A Node with that data value is not present.\"\n",
        "                else:\n",
        "                    previous = current\n",
        "                    current = current.get_next()\n",
        "\n",
        "        if previous is None:\n",
        "            self.head = current.get_next()\n",
        "        else:\n",
        "            previous.set_next(current.get_next())\n",
        "\n",
        "    # This function prints contents of linked list \n",
        "    # starting from head \n",
        "    def print_list(self): \n",
        "        temp = self.head \n",
        "        while (temp): \n",
        "            print (temp.data)\n",
        "            temp = temp.next"
      ],
      "execution_count": 0,
      "outputs": []
    },
    {
      "cell_type": "code",
      "metadata": {
        "id": "8sSCr7fK5aw8",
        "colab_type": "code",
        "colab": {
          "base_uri": "https://localhost:8080/",
          "height": 53
        },
        "outputId": "9a115dcf-856a-4304-b0c6-e1e03ee404a6"
      },
      "source": [
        "sll=SLL()\n",
        "print(sll.is_empty())\n",
        "sll.add_front('a')\n",
        "print(sll.head)"
      ],
      "execution_count": 15,
      "outputs": [
        {
          "output_type": "stream",
          "text": [
            "True\n",
            "SLLNode object: data=a\n"
          ],
          "name": "stdout"
        }
      ]
    },
    {
      "cell_type": "markdown",
      "metadata": {
        "id": "HS2LOHrJ1L_l",
        "colab_type": "text"
      },
      "source": [
        "## Doubly Linked List\n",
        "A Doubly Linked List (DLL) contains an extra pointer, typically called previous pointer, together with next pointer and data which are there in singly linked list.\n",
        "\n",
        "- Advantages over singly linked list\n",
        "    - 1) A DLL can be traversed in both forward and backward direction.\n",
        "\n",
        "    - 2) The delete operation in DLL is more efficient if pointer to the node to be deleted is given.\n",
        "    - 3) We can quickly insert a new node before a given node.\n",
        "\n",
        "- Disadvantages over singly linked list\n",
        "    - 1) Every node of DLL Require extra space for an previous pointer. It is possible to implement DLL with single pointer.\n",
        "\n",
        "    - 2) All operations require an extra pointer previous to be maintained. For example, in insertion, we need to modify previous pointers together with next pointers.\n",
        "\n",
        "### Insertion\n",
        "A node can be added in four ways\n",
        "- 1) At the front of the DLL\n",
        "- 2) After a given node.\n",
        "- 3) At the end of the DLL\n",
        "- 4) Before a given node."
      ]
    },
    {
      "cell_type": "markdown",
      "metadata": {
        "id": "piR9Wxwv01h6",
        "colab_type": "text"
      },
      "source": [
        "### Node Class for Doubly Linked List"
      ]
    },
    {
      "cell_type": "code",
      "metadata": {
        "id": "1FfaGEgq00bI",
        "colab_type": "code",
        "colab": {}
      },
      "source": [
        "class DLLNode:\n",
        "\n",
        "    def __init__(self, data):\n",
        "        self.data = data\n",
        "        self.next = None\n",
        "        self.previous = None\n",
        "\n",
        "    def __repr__(self):\n",
        "        return \"SLLNode object: data={}\".format(self.data)\n",
        "\n",
        "    def get_data(self):\n",
        "        \"\"\"Return the self.data attribute.\"\"\"\n",
        "        return self.data\n",
        "\n",
        "    def set_data(self, new_data):\n",
        "        \"\"\"Replace the existing value of the self.data attribute with new_data\n",
        "        parameter.\"\"\"\n",
        "        self.data = new_data\n",
        "\n",
        "    def get_next(self):\n",
        "        \"\"\"Return the self.next attribute\"\"\"\n",
        "        return self.next\n",
        "\n",
        "    def set_next(self, new_next):\n",
        "        \"\"\"Replace the existing value of the self.next attribute with new_next\n",
        "        parameter.\"\"\"\n",
        "        self.next = new_next\n",
        "\n",
        "    def get_previous(self):\n",
        "        \"\"\"Return the self.previous attribute\"\"\"\n",
        "        return self.previous\n",
        "\n",
        "    def set_previous(self, new_previous):\n",
        "        \"\"\"Replace the existing value of the self.previous attribute with\n",
        "        new_previous parameter.\"\"\"\n",
        "        self.previous = new_previous"
      ],
      "execution_count": 0,
      "outputs": []
    },
    {
      "cell_type": "markdown",
      "metadata": {
        "id": "WTDT937a1kG3",
        "colab_type": "text"
      },
      "source": [
        "### Doubly Linked List Class\n",
        " \n"
      ]
    },
    {
      "cell_type": "code",
      "metadata": {
        "id": "UWQNe8Tp22h0",
        "colab_type": "code",
        "colab": {}
      },
      "source": [
        "class DLL:\n",
        "\n",
        "    def __init__(self):\n",
        "        self.head = None\n",
        "\n",
        "    def __repr__(self):\n",
        "        return \"<DLL object: head=>\".format(self.head)\n",
        "\n",
        "    def is_empty(self):\n",
        "        return self.head is None\n",
        "\n",
        "    def size(self):\n",
        "        \"\"\"Traverses the Linked List and returns an integer value representing\n",
        "        the number of nodes in the Linked List.\n",
        "\n",
        "        The time complexity is O(n) because every Node in the Linked List must\n",
        "        be visited in order to calculate the size of the Linked List.\n",
        "        \"\"\"\n",
        "        size = 0\n",
        "        if self.head is None:\n",
        "            return 0\n",
        "\n",
        "        current = self.head\n",
        "        while current is not None:  # While there are still Nodes left to count\n",
        "            size += 1\n",
        "            current = current.get_next()\n",
        "\n",
        "        return size\n",
        "\n",
        "    def search(self, data):\n",
        "        \"\"\"Traverses the Linked List and returns True if the data searched for\n",
        "        is present in one of the Nodes. Otherwise, it returns False.\n",
        "\n",
        "        The time complexity is O(n) because in the worst case, we have to visit\n",
        "        every Node in the list.\n",
        "        \"\"\"\n",
        "        if self.head is None:\n",
        "            return \"Linked List is empty. No Nodes to search.\"\n",
        "\n",
        "        current = self.head\n",
        "        while current is not None:\n",
        "            if current.get_data() == data:\n",
        "                return True\n",
        "            else:\n",
        "                current = current.get_next()\n",
        "\n",
        "        return False\n",
        "\n",
        "    def add_front(self, new_data):\n",
        "        \"\"\"Add a Node whose data is the new_data argument to the front of the\n",
        "        Linked List.\"\"\"\n",
        "        temp = DLLNode(new_data)\n",
        "        temp.set_next(self.head)\n",
        "\n",
        "        if self.head is not None:\n",
        "            self.head.set_previous(temp)\n",
        "\n",
        "        self.head = temp\n",
        "\n",
        "    def remove(self, data):\n",
        "        \"\"\"Removes the first occurence of a Node that contains the data argument\n",
        "        as its self.data attribute. Returns nothing.\n",
        "\n",
        "        The time complexity is O(n) because in the worst case, we have to visit\n",
        "        every Node before finding the one we want to remove.\n",
        "        \"\"\"\n",
        "        if self.head is None:\n",
        "            return \"Linked List is empty. No Nodes to remove.\"\n",
        "\n",
        "        current = self.head\n",
        "        found = False\n",
        "        while not found:\n",
        "            if current.get_data() == data:\n",
        "                found = True\n",
        "            else:\n",
        "                if current.get_next() is None:\n",
        "                    return \"A Node with that data value is not present.\"\n",
        "                else:\n",
        "                    current = current.get_next()\n",
        "\n",
        "        if current.previous is None:\n",
        "            self.head = current.get_next()\n",
        "        else:\n",
        "            current.previous.set_next(current.get_next())\n",
        "            current.next.set_previous(current.get_previous())"
      ],
      "execution_count": 0,
      "outputs": []
    },
    {
      "cell_type": "code",
      "metadata": {
        "id": "Ju1Jh5jd0pJz",
        "colab_type": "code",
        "colab": {}
      },
      "source": [
        ""
      ],
      "execution_count": 0,
      "outputs": []
    },
    {
      "cell_type": "markdown",
      "metadata": {
        "id": "Otl9BRMQCTls",
        "colab_type": "text"
      },
      "source": [
        "### Circular Linked List\n",
        "Circular linked list is a linked list where all nodes are connected to form a circle. There is no NULL at the end. A circular linked list can be a singly circular linked list or doubly circular linked list."
      ]
    },
    {
      "cell_type": "code",
      "metadata": {
        "id": "gdiGo21xCbjP",
        "colab_type": "code",
        "colab": {
          "base_uri": "https://localhost:8080/",
          "height": 107
        },
        "outputId": "114fe95e-5365-4296-ff5f-6d4979f397cd"
      },
      "source": [
        "# Python program to demonstrate \n",
        "# circular linked list traversal \n",
        "\n",
        "# Structure for a Node \n",
        "class Node: \n",
        "\t\n",
        "\t# Constructor to create a new node \n",
        "\tdef __init__(self, data): \n",
        "\t\tself.data = data \n",
        "\t\tself.next = None\n",
        "\n",
        "class CircularLinkedList: \n",
        "\t\n",
        "\t# Constructor to create a empty circular linked list \n",
        "\tdef __init__(self): \n",
        "\t\tself.head = None\n",
        "\n",
        "\t# Function to insert a node at the beginning of a \n",
        "\t# circular linked list \n",
        "\tdef push(self, data): \n",
        "\t\tptr1 = Node(data) \n",
        "\t\ttemp = self.head \n",
        "\t\t\n",
        "\t\tptr1.next = self.head \n",
        "\n",
        "\t\t# If linked list is not None then set the next of \n",
        "\t\t# last node \n",
        "\t\tif self.head is not None: \n",
        "\t\t\twhile(temp.next != self.head): \n",
        "\t\t\t\ttemp = temp.next\n",
        "\t\t\ttemp.next = ptr1 \n",
        "\n",
        "\t\telse: \n",
        "\t\t\tptr1.next = ptr1 # For the first node \n",
        "\n",
        "\t\tself.head = ptr1 \n",
        "\n",
        "\t# Function to print nodes in a given circular linked list \n",
        "\tdef print_list(self): \n",
        "\t\ttemp = self.head \n",
        "\t\tif self.head is not None: \n",
        "\t\t\twhile(True): \n",
        "\t\t\t\tprint (\"%d\" %(temp.data)), \n",
        "\t\t\t\ttemp = temp.next\n",
        "\t\t\t\tif (temp == self.head): \n",
        "\t\t\t\t\tbreak\n",
        "\n",
        "\n",
        "# Driver program to test above function \n",
        "\n",
        "# Initialize list as empty \n",
        "cllist = CircularLinkedList() \n",
        "\n",
        "# Created linked list will be 11->2->56->12 \n",
        "cllist.push(12) \n",
        "cllist.push(56) \n",
        "cllist.push(2) \n",
        "cllist.push(11) \n",
        "\n",
        "print (\"Contents of circular Linked List\")\n",
        "cllist.print_list() "
      ],
      "execution_count": 18,
      "outputs": [
        {
          "output_type": "stream",
          "text": [
            "Contents of circular Linked List\n",
            "11\n",
            "2\n",
            "56\n",
            "12\n"
          ],
          "name": "stdout"
        }
      ]
    },
    {
      "cell_type": "code",
      "metadata": {
        "id": "TFcscB9iFtdn",
        "colab_type": "code",
        "colab": {}
      },
      "source": [
        ""
      ],
      "execution_count": 0,
      "outputs": []
    }
  ]
}